{
 "cells": [
  {
   "cell_type": "code",
   "execution_count": null,
   "metadata": {},
   "outputs": [],
   "source": [
    "import numpy as np\n",
    "from numpy import pi\n",
    "from matplotlib import pyplot as plt\n",
    "import time\n",
    "%matplotlib inline\n",
    "from sklearn.decomposition import PCA\n",
    "\n",
    "import pyqg\n",
    "from pyqg import diagnostic_tools as tools"
   ]
  },
  {
   "cell_type": "markdown",
   "metadata": {},
   "source": [
    "## setup run"
   ]
  },
  {
   "cell_type": "code",
   "execution_count": null,
   "metadata": {},
   "outputs": [],
   "source": [
    "# domain parameters\n",
    "L =  1000.e3     # length scale of box    [m]\n",
    "# Ld = 15.e3       # deformation scale      [m]\n",
    "# kd = 1./Ld       # deformation wavenumber [m^-1]\n",
    "Nx = 64          # number of grid points\n",
    "Nz = 10          # number of vertical grid points\n",
    "\n",
    "# layer thickness and depth\n",
    "H = np.array([100.,100.,100.,200.,200.,300.,400.,500.,500.,600.])\n",
    "depth = np.sum(H)\n",
    "z_layer = np.append(0,np.cumsum(-H))\n",
    "z_full = np.arange(0,z_layer[-1],-1)\n",
    "\n",
    "# zonal background velocity\n",
    "# including unstable background velocity will permit turbulence\n",
    "# U = np.zeros_like(H)\n",
    "Umax = 0.0\n",
    "Uslope = Umax/depth\n",
    "U_func = lambda z: Umax + Uslope*z\n",
    "U = np.zeros_like(H)\n",
    "for ii in range(Nz):\n",
    "    U[ii] = U_func( np.arange(z_layer[ii],z_layer[ii+1],-1) ).mean()\n",
    "\n",
    "# latitude\n",
    "lat = 30.        # latitude\n",
    "f0 = 2*7.2921E-5*np.sin(np.deg2rad(lat)) # coriolis param [s^-1]\n",
    "beta = 2*7.292e-5*np.cos(np.deg2rad(lat))/6370e3 # planetary vorticity gradient [m^-1 s^-1]\n",
    "g = 9.81\n",
    "\n",
    "# stratification\n",
    "# Jeffrey has some nice examples in InternalModes.m/StratificationProfileWithName\n",
    "H_strat = 1.0e3;        # thermocline exponential scale, meters\n",
    "N0 = 5.2e-3;            # reference buoyancy frequency, radians/seconds\n",
    "rho0 = 1025;            # mean density\n",
    "rho_func = lambda z: rho0*(1 + H_strat*N0*N0/(2*g)*(1 - np.exp(2*z/H_strat)))\n",
    "N2_func = lambda z: N0*N0*np.exp(2*z/H_strat)\n",
    "rho = np.zeros_like(H)\n",
    "for ii in range(Nz):\n",
    "    rho[ii] = rho_func( np.arange(z_layer[ii],z_layer[ii+1],-1) ).mean()\n",
    "\n",
    "# bottom topography\n",
    "# used cos (not sin) so that \"mode 0\" topography contributes a 1, not a 0.\n",
    "amp = 50\n",
    "xmode = 0\n",
    "ymode = 10\n",
    "X,Y = np.meshgrid(\n",
    "            np.arange(0.5,Nx,1.)/Nx*L,\n",
    "            np.arange(0.5,Nx,1.)/Nx*L )\n",
    "hbot = amp* np.cos(2*np.pi*xmode*X/L) * np.cos(2*np.pi*ymode*Y/L)\n",
    "\n",
    "# friction parameters\n",
    "rbg = 0\n",
    "rek = 1.e-7       # linear bottom drag coeff.  [s^-1]\n",
    "\n",
    "# intial PV anomaly\n",
    "# sig = 1.e-7\n",
    "# qi = sig*np.random.randn(Nz,Nx,Nx)\n",
    "sig = 1.0e-6    # initial amplitude\n",
    "kmode = 3.      # initial zonal wavelength [cycles m^-1]\n",
    "qi = sig*np.sin(2*np.pi*kmode*X/L)\n",
    "qi = qi[np.newaxis,:,:]*np.ones((Nz,1,1))\n",
    "\n",
    "# time stepping parameters\n",
    "# Ti = Ld/(abs(U1))  # estimate of most unstable e-folding time scale [s]\n",
    "# dt = Ti/200.   # time-step [s]\n",
    "# tmax = 100*Ti      # simulation time [s]\n",
    "dt = 1500.        # time-step [s]\n",
    "tmax = 30000000.  # simulation time [s]\n",
    "twrite = 5000     # time between diagnostic checks [timesteps]\n",
    "tavestart = 30*86400        # time to start averaging diagnostics [s]"
   ]
  },
  {
   "cell_type": "code",
   "execution_count": null,
   "metadata": {},
   "outputs": [],
   "source": [
    "m = pyqg.LayeredModel(nx=Nx, nz=Nz, U=U, V=U, L=L, f=f0, beta=beta,\n",
    "                         H=H, rho=rho, hbot=hbot, rek=rek, rbg=rbg,\n",
    "                        dt=dt, tmax=tmax, twrite=twrite, tavestart=tavestart, ntd=1)"
   ]
  },
  {
   "cell_type": "code",
   "execution_count": null,
   "metadata": {},
   "outputs": [],
   "source": [
    "qi = qi * m.pmodes[:,1,np.newaxis,np.newaxis]    # make initial wave baroclinic mode 1\n",
    "m.set_q(qi)                # set initial PV anomaly"
   ]
  },
  {
   "cell_type": "markdown",
   "metadata": {},
   "source": [
    "## run"
   ]
  },
  {
   "cell_type": "code",
   "execution_count": null,
   "metadata": {},
   "outputs": [],
   "source": [
    "# define a quick function for plotting and visualize the initial condition\n",
    "# def plot_q(m, qmax=2*qi.max()):\n",
    "#     fig, ax = plt.subplots()\n",
    "#     pc = ax.pcolormesh(m.x/m.rd,m.y/m.rd,m.q[0]+m.Qy[0]*m.y*0, cmap='RdBu_r')\n",
    "#     pc.set_clim([-qmax, qmax])\n",
    "#     plt.xlabel(r'$x/L_d$')\n",
    "#     plt.ylabel(r'$y/L_d$')\n",
    "#     plt.colorbar(pc)\n",
    "#     plt.title('Time = %g' % m.t)\n",
    "#     plt.show()\n",
    "#    \n",
    "# for _ in m.run_with_snapshots(tsnapstart=0, tsnapint=300*dt):\n",
    "#     plot_q(m)"
   ]
  },
  {
   "cell_type": "code",
   "execution_count": null,
   "metadata": {},
   "outputs": [],
   "source": [
    "t0 = time.time()\n",
    "m.run()\n",
    "t1 = time.time()\n",
    "print(\"computation time is\", t1-t0, \"s\")"
   ]
  },
  {
   "cell_type": "markdown",
   "metadata": {},
   "source": [
    "## plot"
   ]
  },
  {
   "cell_type": "code",
   "execution_count": null,
   "metadata": {},
   "outputs": [],
   "source": [
    "plt.figure(figsize=(14,12))\n",
    "\n",
    "plt.subplot(221)\n",
    "plt.pcolormesh(m.x/m.rd,m.y/m.rd,m.hb[-1,:,:],cmap='copper')\n",
    "plt.xlabel(r'$x/L_d$')\n",
    "plt.ylabel(r'$y/L_d$')\n",
    "plt.colorbar()\n",
    "plt.title('bathymetry [m]')\n",
    "\n",
    "ax = plt.subplot(222)\n",
    "plt.plot(np.stack((rho,rho)),np.stack((z_layer[:-1],z_layer[1:])), 'k',linewidth=2)\n",
    "plt.plot(rho_func(z_full),z_full, linewidth=2)\n",
    "plt.xlabel(r'$\\rho\\ (\\mathrm{kg\\,m^{-3}})$')\n",
    "plt.ylabel(r'depth (m)')\n",
    "plt.title('stratification profile')\n",
    "ax.set_ylim(-depth,0)\n",
    "\n",
    "plt.subplot(223)\n",
    "plt.pcolormesh(m.x/m.rd,m.y/m.rd,qi[0,]+m.Qy[0]*m.y*0, cmap='RdBu_r')\n",
    "plt.xlabel(r'$x/L_d$')\n",
    "plt.ylabel(r'$y/L_d$')\n",
    "plt.colorbar()\n",
    "plt.title('initial PV')\n",
    "\n",
    "plt.subplot(224)\n",
    "plt.pcolormesh(m.y[:,0]/m.rd,z_layer[:-1],qi[:,1,:], cmap='RdBu_r')\n",
    "plt.xlabel(r'$x/L_d$')\n",
    "plt.ylabel(r'depth (m)')\n",
    "plt.colorbar()\n",
    "plt.title('initial PV')\n",
    "\n",
    "plt.savefig(\"/Users/cwortham/Documents/research/rough_topo/figures/ICs.pdf\", bbox_inches='tight')"
   ]
  },
  {
   "cell_type": "code",
   "execution_count": null,
   "metadata": {},
   "outputs": [],
   "source": [
    "plt.figure(figsize=(18,4))\n",
    "\n",
    "plt.subplot(131)\n",
    "plt.pcolormesh(m.x/m.rd,m.y/m.rd,(m.q[0,]+m.Qy[0]*m.y),cmap='Spectral_r')\n",
    "plt.xlabel(r'$x/L_d$')\n",
    "plt.ylabel(r'$y/L_d$')\n",
    "plt.colorbar()\n",
    "plt.title('Layer 1 PV')\n",
    "\n",
    "plt.subplot(132)\n",
    "plt.pcolormesh(m.x/m.rd,m.y/m.rd,(m.q[1,]+m.Qy[1]*m.y),cmap='Spectral_r')\n",
    "plt.xlabel(r'$x/L_d$')\n",
    "plt.ylabel(r'$y/L_d$')\n",
    "plt.colorbar()\n",
    "plt.title('Layer 2 PV')\n",
    "\n",
    "plt.subplot(133)\n",
    "plt.pcolormesh(m.x/m.rd,m.y/m.rd,(m.q[m.nz-1,]+m.Qy[m.nz-1]*m.y),cmap='Spectral_r')\n",
    "plt.xlabel(r'$x/L_d$')\n",
    "plt.ylabel(r'$y/L_d$')\n",
    "plt.colorbar()\n",
    "plt.title('Layer 3 PV')"
   ]
  },
  {
   "cell_type": "markdown",
   "metadata": {},
   "source": [
    "## PCA"
   ]
  },
  {
   "cell_type": "code",
   "execution_count": null,
   "metadata": {},
   "outputs": [],
   "source": [
    "pca = PCA(n_components=5)\n",
    "pca.fit(m.v.reshape(10,-1).T)\n",
    "pca.explained_variance_ratio_"
   ]
  },
  {
   "cell_type": "code",
   "execution_count": null,
   "metadata": {},
   "outputs": [],
   "source": [
    "plt.figure(figsize=(10,6))\n",
    "\n",
    "plt.subplot(121)\n",
    "plt.plot(pca.components_.T,z_layer[:-1])\n",
    "plt.plot(pca.components_[0,:],z_layer[:-1], 'k',linewidth=3,\n",
    "         label='{:0.2f}%'.format(pca.explained_variance_ratio_[0]*100))\n",
    "plt.xlabel(r'PCA amplitude')\n",
    "plt.ylabel(r'depth (m)')\n",
    "plt.legend()\n",
    "\n",
    "plt.subplot(122)\n",
    "plt.plot(m.pmodes[:,1:4],z_layer[:-1])\n",
    "plt.plot(m.pmodes[:,1],z_layer[:-1], 'k',linewidth=3)\n",
    "plt.xlabel(r'mode amplitude')\n",
    "plt.ylabel(r'depth (m)')\n",
    "\n",
    "plt.savefig(\"/Users/cwortham/Documents/research/rough_topo/figures/PCA.pdf\", bbox_inches='tight')"
   ]
  },
  {
   "cell_type": "markdown",
   "metadata": {},
   "source": [
    "## workspace"
   ]
  },
  {
   "cell_type": "code",
   "execution_count": null,
   "metadata": {},
   "outputs": [],
   "source": [
    "m.pmodes.shape"
   ]
  },
  {
   "cell_type": "code",
   "execution_count": null,
   "metadata": {},
   "outputs": [],
   "source": [
    "plt.figure()\n",
    "plt.pcolormesh(m.y[:,0],z_layer[:-1],m.q[:,:,3],cmap='Spectral_r')\n",
    "plt.colorbar()"
   ]
  },
  {
   "cell_type": "code",
   "execution_count": null,
   "metadata": {},
   "outputs": [],
   "source": [
    "plt.figure()\n",
    "plt.pcolormesh(m.y[:,0],z_layer[:-1],m.v[:,1,:],cmap='Spectral_r')\n",
    "plt.colorbar()"
   ]
  },
  {
   "cell_type": "code",
   "execution_count": null,
   "metadata": {},
   "outputs": [],
   "source": [
    "pca = PCA(n_components=4)\n",
    "pca.fit(m.q.reshape(10,-1).T)"
   ]
  },
  {
   "cell_type": "code",
   "execution_count": null,
   "metadata": {},
   "outputs": [],
   "source": [
    "pca.components_.shape"
   ]
  },
  {
   "cell_type": "code",
   "execution_count": null,
   "metadata": {},
   "outputs": [],
   "source": [
    "pca.explained_variance_ratio_"
   ]
  },
  {
   "cell_type": "code",
   "execution_count": null,
   "metadata": {},
   "outputs": [],
   "source": [
    "plt.figure()\n",
    "plt.plot(pca.components_.T,z_layer[:-1])"
   ]
  },
  {
   "cell_type": "code",
   "execution_count": null,
   "metadata": {},
   "outputs": [],
   "source": [
    "plt.figure()\n",
    "plt.plot(m.pmodes[:,1:4],z_layer[:-1])"
   ]
  },
  {
   "cell_type": "code",
   "execution_count": null,
   "metadata": {},
   "outputs": [],
   "source": [
    "H"
   ]
  },
  {
   "cell_type": "code",
   "execution_count": null,
   "metadata": {},
   "outputs": [],
   "source": []
  }
 ],
 "metadata": {
  "kernelspec": {
   "display_name": "Python [default]",
   "language": "python",
   "name": "python3"
  },
  "language_info": {
   "codemirror_mode": {
    "name": "ipython",
    "version": 3
   },
   "file_extension": ".py",
   "mimetype": "text/x-python",
   "name": "python",
   "nbconvert_exporter": "python",
   "pygments_lexer": "ipython3",
   "version": "3.5.6"
  }
 },
 "nbformat": 4,
 "nbformat_minor": 2
}
